{
 "cells": [
  {
   "cell_type": "code",
   "execution_count": null,
   "metadata": {},
   "outputs": [],
   "source": [
    "import pandas as pd\n",
    "import matplotlib.pyplot as plt\n",
    "import seaborn as sns"
   ]
  },
  {
   "cell_type": "code",
   "execution_count": null,
   "metadata": {},
   "outputs": [],
   "source": [
    "df=pd.read_excel(\"your_file_name.xlsx\")"
   ]
  },
  {
   "cell_type": "code",
   "execution_count": null,
   "metadata": {},
   "outputs": [],
   "source": [
    "df.head()"
   ]
  },
  {
   "cell_type": "code",
   "execution_count": null,
   "metadata": {},
   "outputs": [],
   "source": [
    "df.isnull()"
   ]
  },
  {
   "cell_type": "code",
   "execution_count": null,
   "metadata": {},
   "outputs": [],
   "source": [
    "x = df.isna().sum().sum()"
   ]
  },
  {
   "cell_type": "code",
   "execution_count": null,
   "metadata": {},
   "outputs": [],
   "source": [
    "x"
   ]
  },
  {
   "cell_type": "markdown",
   "metadata": {},
   "source": [
    "###   Listing down all the columns with missing values."
   ]
  },
  {
   "cell_type": "code",
   "execution_count": null,
   "metadata": {},
   "outputs": [],
   "source": [
    "missing_cols = df.columns[df.isnull().any()]"
   ]
  },
  {
   "cell_type": "code",
   "execution_count": null,
   "metadata": {},
   "outputs": [],
   "source": [
    "missing_cols=missing_cols.to_list()"
   ]
  },
  {
   "cell_type": "code",
   "execution_count": null,
   "metadata": {},
   "outputs": [],
   "source": [
    "# List of columns that are null or contain atleast one null value\n",
    "missing_cols"
   ]
  },
  {
   "cell_type": "code",
   "execution_count": null,
   "metadata": {},
   "outputs": [],
   "source": [
    "print(len(missing_cols))"
   ]
  },
  {
   "cell_type": "markdown",
   "metadata": {},
   "source": [
    "### Cleaning the data (optional since it is not mentioned in the description)(cleaning the data to efficiently find duplicates in further cells)"
   ]
  },
  {
   "cell_type": "code",
   "execution_count": null,
   "metadata": {},
   "outputs": [],
   "source": [
    "number_of_null = df.isna().sum()"
   ]
  },
  {
   "cell_type": "code",
   "execution_count": null,
   "metadata": {},
   "outputs": [],
   "source": [
    "number_of_null"
   ]
  },
  {
   "cell_type": "markdown",
   "metadata": {},
   "source": [
    "Dropping the null rows , if we want to preserve the row from being lost while dropping, a better way would be to interploate the values in those rows such that the whole row doesn't get affected because of minimal null values "
   ]
  },
  {
   "cell_type": "code",
   "execution_count": null,
   "metadata": {},
   "outputs": [],
   "source": [
    "df=df.dropna()"
   ]
  },
  {
   "cell_type": "code",
   "execution_count": null,
   "metadata": {},
   "outputs": [],
   "source": [
    "df"
   ]
  },
  {
   "cell_type": "markdown",
   "metadata": {},
   "source": [
    "###   Categorizing the columns based upon their data types"
   ]
  },
  {
   "cell_type": "code",
   "execution_count": null,
   "metadata": {},
   "outputs": [],
   "source": [
    "# numeric and object data types\n",
    "numeric_df = df.select_dtypes(include=\"number\")\n",
    "object_df = df.select_dtypes(include=\"object\")"
   ]
  },
  {
   "cell_type": "code",
   "execution_count": null,
   "metadata": {},
   "outputs": [],
   "source": [
    "numeric_df=numeric_df.columns.to_list()"
   ]
  },
  {
   "cell_type": "code",
   "execution_count": null,
   "metadata": {},
   "outputs": [],
   "source": [
    "object_df=object_df.columns.to_list()"
   ]
  },
  {
   "cell_type": "code",
   "execution_count": null,
   "metadata": {},
   "outputs": [],
   "source": [
    "numeric_df"
   ]
  },
  {
   "cell_type": "code",
   "execution_count": null,
   "metadata": {},
   "outputs": [],
   "source": [
    "object_df"
   ]
  },
  {
   "cell_type": "code",
   "execution_count": null,
   "metadata": {},
   "outputs": [],
   "source": [
    "print(len(object_df))\n",
    "print(len(numeric_df))"
   ]
  },
  {
   "cell_type": "code",
   "execution_count": null,
   "metadata": {},
   "outputs": [],
   "source": [
    "# we don't have string and datetime or any other data types except number(114 cols) and object(3 cols)\n",
    "string_df = df.select_dtypes(include=\"string\")\n",
    "datetime_df = df.select_dtypes(include=\"datetime\")\n",
    "excluding_number_object_df = df.select_dtypes(exclude=[\"number\",\"object\"])\n",
    "print(len(string_df.columns.to_list()))\n",
    "print(len(datetime_df.columns.to_list()))\n",
    "print(len(excluding_number_object_df.columns.to_list()))"
   ]
  },
  {
   "cell_type": "markdown",
   "metadata": {},
   "source": [
    "### Removing Duplicate columns and printing df before and after"
   ]
  },
  {
   "cell_type": "code",
   "execution_count": null,
   "metadata": {},
   "outputs": [],
   "source": [
    "# checking for column wise duplication\n",
    "# cols which are exactly same are cleaned\n",
    "df_cleaned = df.loc[:, ~df.T.duplicated()]\n",
    "\n",
    "print(\"Duplicate columns before removal:\", df.columns[df.T.duplicated()].tolist())\n"
   ]
  },
  {
   "cell_type": "code",
   "execution_count": null,
   "metadata": {},
   "outputs": [],
   "source": [
    "print(\"\\nDataFrame before removing duplicate columns:\")\n",
    "df"
   ]
  },
  {
   "cell_type": "code",
   "execution_count": null,
   "metadata": {},
   "outputs": [],
   "source": [
    "\n",
    "print(\"\\nDataFrame after removing duplicate columns:\")\n",
    "df_cleaned"
   ]
  },
  {
   "cell_type": "markdown",
   "metadata": {},
   "source": [
    "### Identifying constant columns and printing df before and after removing them"
   ]
  },
  {
   "cell_type": "code",
   "execution_count": null,
   "metadata": {},
   "outputs": [],
   "source": [
    "# constant columns have only one unique value across whole column values\n",
    "constant_cols = [col for col in df.columns if df[col].nunique() == 1]\n",
    "print(\"Constant columns : \",constant_cols)"
   ]
  },
  {
   "cell_type": "code",
   "execution_count": null,
   "metadata": {},
   "outputs": [],
   "source": [
    "# removing constant cols\n",
    "cleaned_df = df.drop(columns=constant_cols)"
   ]
  },
  {
   "cell_type": "code",
   "execution_count": null,
   "metadata": {},
   "outputs": [],
   "source": [
    "# df before removing constant columns \n",
    "df"
   ]
  },
  {
   "cell_type": "code",
   "execution_count": null,
   "metadata": {},
   "outputs": [],
   "source": [
    "# df after removing constant columns \n",
    "cleaned_df\n"
   ]
  },
  {
   "cell_type": "markdown",
   "metadata": {},
   "source": [
    "### Creating box plot to visualise the outliers of all the numeric columns"
   ]
  },
  {
   "cell_type": "code",
   "execution_count": null,
   "metadata": {},
   "outputs": [],
   "source": [
    "# selecting the numeric data type and converting to cols\n",
    "plot_cols = df.select_dtypes(include=\"number\")"
   ]
  },
  {
   "cell_type": "code",
   "execution_count": null,
   "metadata": {},
   "outputs": [],
   "source": [
    "plot_cols"
   ]
  },
  {
   "cell_type": "markdown",
   "metadata": {},
   "source": [
    " using seaborn and matplotlib"
   ]
  },
  {
   "cell_type": "code",
   "execution_count": null,
   "metadata": {},
   "outputs": [],
   "source": [
    "# Melt the df (coverts from wide to long format for easy plotting)\n",
    "melted_df = plot_cols.melt(var_name=\"Column\", value_name=\"Value\")\n",
    "\n",
    "# create a plot box\n",
    "plt.figure(figsize=(30, 40))\n",
    "sns.boxplot(x=\"Column\", y=\"Value\", data=melted_df)\n",
    "plt.title(\"Box Plot of Numeric Columns\")\n",
    "plt.xticks(rotation=90)\n",
    "plt.show()"
   ]
  },
  {
   "cell_type": "markdown",
   "metadata": {},
   "source": [
    "The data shown above is too dense and thus not properly visible , so tackle this issue we can plot two graphs by dividing our columns into two halves"
   ]
  },
  {
   "cell_type": "code",
   "execution_count": null,
   "metadata": {},
   "outputs": [],
   "source": [
    "# dividing the cols/2 and plotting half the cols as a time so as for better visualization\n",
    "half = len(plot_cols.columns) // 2\n",
    "# First half\n",
    "first_df = plot_cols.iloc[:, :half]\n",
    "# Second half\n",
    "second_df = plot_cols.iloc[:, half:]"
   ]
  },
  {
   "cell_type": "code",
   "execution_count": null,
   "metadata": {},
   "outputs": [],
   "source": [
    "# melting both dfs from wide to long\n",
    "\n",
    "first_df = first_df.melt(var_name=\"Column\", value_name=\"Value\")\n",
    "second_df = second_df.melt(var_name=\"Column\", value_name=\"Value\")"
   ]
  },
  {
   "cell_type": "code",
   "execution_count": null,
   "metadata": {},
   "outputs": [],
   "source": [
    "# Plot the first half\n",
    "plt.figure(figsize=(14, 15))\n",
    "sns.boxplot(x=\"Column\", y=\"Value\", data=first_df)\n",
    "plt.title(\"Box Plot of First Half of Numeric Columns\")\n",
    "plt.xticks(rotation=90)\n",
    "plt.show()\n",
    "\n",
    "\n",
    "# Plot the second half\n",
    "plt.figure(figsize=(14, 15))\n",
    "sns.boxplot(x=\"Column\", y=\"Value\", data=second_df)\n",
    "plt.title(\"Box Plot of Second Half of Numeric Columns\")\n",
    "plt.xticks(rotation=90)\n",
    "plt.show()\n"
   ]
  },
  {
   "cell_type": "markdown",
   "metadata": {},
   "source": [
    "### Creating charts for any 6 columns and show their distribution"
   ]
  },
  {
   "cell_type": "markdown",
   "metadata": {},
   "source": [
    "using seaborn and matplotlib"
   ]
  },
  {
   "cell_type": "code",
   "execution_count": null,
   "metadata": {},
   "outputs": [],
   "source": [
    "# let's select any 6 numeric columns\n",
    "columns_to_plot = df.select_dtypes(include='number').columns[2:8]\n",
    "\n",
    "# Create subplots for the 6 columns\n",
    "plt.figure(figsize=(15, 10))\n",
    "for i, col in enumerate(columns_to_plot, 1):\n",
    "    # layout for plotting 2 rows with 3 column of graphs\n",
    "    plt.subplot(2, 3, i)\n",
    "    # plotting the data with kde (kernel density estimate for smooth curve over data)(we can remove it by setting kde=False)\n",
    "    sns.histplot(df[col], kde=True, color='skyblue') \n",
    "    plt.title(f\"Distribution of {col}\")\n",
    "    plt.xlabel(col)\n",
    "    plt.ylabel(\"Frequency\")\n",
    "\n",
    "plt.tight_layout()\n",
    "plt.show()\n"
   ]
  }
 ],
 "metadata": {
  "kernelspec": {
   "display_name": "venv",
   "language": "python",
   "name": "python3"
  },
  "language_info": {
   "codemirror_mode": {
    "name": "ipython",
    "version": 3
   },
   "file_extension": ".py",
   "mimetype": "text/x-python",
   "name": "python",
   "nbconvert_exporter": "python",
   "pygments_lexer": "ipython3",
   "version": "3.11.2"
  }
 },
 "nbformat": 4,
 "nbformat_minor": 2,
 "outputs": []
}
